{
 "cells": [
  {
   "cell_type": "code",
   "execution_count": null,
   "metadata": {},
   "outputs": [],
   "source": [
    "from fastai import *\n",
    "from fastai.vision import *\n",
    "\n",
    "path = './'\n",
    "\n",
    "arch = models.resnet50\n",
    "src = ImageList.from_csv(path, 'tag_labels_6000.csv').split_by_rand_pct(0.1, seed=15)\n",
    "with open('class_names.pkl','rb') as f: classes = pickle.load(f).index.tolist()\n",
    "src = src.label_from_df(label_delim=' ', classes=classes)"
   ]
  },
  {
   "cell_type": "code",
   "execution_count": null,
   "metadata": {},
   "outputs": [],
   "source": [
    "tfms = get_transforms(flip_vert=False, max_lighting=0.1, max_zoom=1.15, max_warp=0.1)\n",
    "\n",
    "def get_data(bs, size, stats=None):\n",
    "    if stats == None:\n",
    "        data = (src.transform(tfms, size=size)\n",
    "               .databunch(bs=bs).normalize())\n",
    "    else:\n",
    "        print(\"Using stats \", stats)\n",
    "        data = (src.transform(tfms, size=size)\n",
    "               .databunch(bs=bs).normalize(stats))\n",
    "    return data"
   ]
  },
  {
   "cell_type": "code",
   "execution_count": null,
   "metadata": {},
   "outputs": [],
   "source": [
    "data = get_data(128, 64)"
   ]
  },
  {
   "cell_type": "code",
   "execution_count": null,
   "metadata": {},
   "outputs": [],
   "source": [
    "data.show_batch()"
   ]
  },
  {
   "cell_type": "markdown",
   "metadata": {},
   "source": [
    "Sorry, some of the images in the batch were NFSW, so I have supressed the output here"
   ]
  },
  {
   "cell_type": "code",
   "execution_count": null,
   "metadata": {},
   "outputs": [],
   "source": []
  }
 ],
 "metadata": {
  "kernelspec": {
   "display_name": "Python 3",
   "language": "python",
   "name": "python3"
  },
  "language_info": {
   "codemirror_mode": {
    "name": "ipython",
    "version": 3
   },
   "file_extension": ".py",
   "mimetype": "text/x-python",
   "name": "python",
   "nbconvert_exporter": "python",
   "pygments_lexer": "ipython3",
   "version": "3.7.3"
  }
 },
 "nbformat": 4,
 "nbformat_minor": 2
}
