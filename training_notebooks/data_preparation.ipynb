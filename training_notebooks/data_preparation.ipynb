{
 "cells": [
  {
   "cell_type": "markdown",
   "metadata": {},
   "source": [
    "# Data preparation \n",
    "This notebook is the code I used to prepare the data for the full ~2.4TB Danbooru2018 dataset"
   ]
  },
  {
   "cell_type": "code",
   "execution_count": 1,
   "metadata": {},
   "outputs": [],
   "source": [
    "%load_ext autoreload\n",
    "%autoreload 2\n",
    "%matplotlib inline"
   ]
  },
  {
   "cell_type": "code",
   "execution_count": 4,
   "metadata": {},
   "outputs": [
    {
     "name": "stdout",
     "output_type": "stream",
     "text": [
      "34\n"
     ]
    }
   ],
   "source": [
    "import json\n",
    "from pathlib import Path\n",
    "import os\n",
    "from fastai.core import parallel\n",
    "import pickle\n",
    "import gc\n",
    "    \n",
    "def inner(pths, i):\n",
    "    inner_lab = {}\n",
    "    pth, image_dir = pths\n",
    "    image_dir = Path(image_dir)\n",
    "    with open(pth, \"r\") as f:\n",
    "        for line in f:\n",
    "            example = json.loads(line)\n",
    "            idd = example['id']\n",
    "            f1 = \"{:04d}\".format((int(idd) % 1000))\n",
    "\n",
    "            poth = image_dir/f1/(str(idd) + '.' + str(example['file_ext']))\n",
    "            example['path'] = poth\n",
    "            if poth.is_file():\n",
    "                inner_lab[idd] = example\n",
    "            else:\n",
    "                continue\n",
    "    with open(pth.parent/(pth.stem + 'tmp.pkl'), 'wb') as handle:\n",
    "        pickle.dump(inner_lab, handle, protocol=pickle.HIGHEST_PROTOCOL)\n",
    "\n",
    "def filter_labels(metadata_dir, image_dir):\n",
    "    \"\"\" \n",
    "    Filters and merges all metadata in `metadata_dir` into a single json object,\n",
    "    consisting of only the images you have in `image_dir`\n",
    "    \"\"\"\n",
    "    meta_paths = [i for i in Path(metadata_dir).glob('**/*') if i.is_file()]\n",
    "    meta_paths = [i for i in meta_paths if 'tmp' not in i.name]\n",
    "    \n",
    "    labels = {}\n",
    "    \n",
    "    col = [(pth, image_dir) for pth in meta_paths]\n",
    "#     parallel(inner, col)\n",
    "\n",
    "    return col\n",
    "    \n",
    "    #finished_paths = Path(metadata_dir).glob('*tmp.pkl')\n",
    "    #for pth in finished_paths:\n",
    "    #    with open(pth, 'rb') as handle:\n",
    "    #        labels.update(pickle.load(handle))\n",
    "    #    os.remove(pth)\n",
    "        \n",
    "    #return labels\n",
    "\n",
    "col = filter_labels('danbooru2018/metadata/', 'danbooru2018/original/')\n",
    "print(len(col))"
   ]
  },
  {
   "cell_type": "markdown",
   "metadata": {},
   "source": [
    "Due to the size of the metadata and the number of files involved for the full dataset, I had to do this slowly with maximum two workers otherwise bad errors came for me."
   ]
  },
  {
   "cell_type": "code",
   "execution_count": 40,
   "metadata": {},
   "outputs": [
    {
     "name": "stdout",
     "output_type": "stream",
     "text": [
      "Done  [(PosixPath('danbooru2018/metadata/2018000000000015'), 'danbooru2018/original/'), (PosixPath('danbooru2018/metadata/2018000000000016'), 'danbooru2018/original/')]\n"
     ]
    }
   ],
   "source": [
    "gc.collect()\n",
    "parallel(inner, col[32:], max_workers=2)\n",
    "\n",
    "print(\"Done \", col[32:])"
   ]
  },
  {
   "cell_type": "code",
   "execution_count": 5,
   "metadata": {},
   "outputs": [],
   "source": [
    "finished_paths = list(Path('danbooru2018/metadata/').glob('**/*tmp.pkl'))\n",
    "finished_paths = sorted(finished_paths, key=lambda x: x.name)\n",
    "# print(finished_paths)\n",
    "labels = {}\n",
    "\n",
    "# for pth in finished_paths[0:10]:\n",
    "#     with open(pth, 'rb') as handle:\n",
    "#         labels.update(pickle.load(handle))"
   ]
  },
  {
   "cell_type": "code",
   "execution_count": 11,
   "metadata": {},
   "outputs": [],
   "source": [
    "# Don't try this with less than 24GB of ram.\n",
    "gc.collect()\n",
    "for pth in finished_paths[20:]:\n",
    "    with open(pth, 'rb') as handle:\n",
    "        labels.update(pickle.load(handle))"
   ]
  },
  {
   "cell_type": "code",
   "execution_count": 15,
   "metadata": {},
   "outputs": [
    {
     "data": {
      "text/plain": [
       "3331510"
      ]
     },
     "execution_count": 15,
     "metadata": {},
     "output_type": "execute_result"
    }
   ],
   "source": [
    "len(labels)"
   ]
  },
  {
   "cell_type": "code",
   "execution_count": 12,
   "metadata": {},
   "outputs": [],
   "source": [
    "with open('filtered_labels.pkl', 'wb') as handle:\n",
    "    pickle.dump(labels, handle, protocol=pickle.HIGHEST_PROTOCOL)"
   ]
  },
  {
   "cell_type": "markdown",
   "metadata": {},
   "source": [
    "## Getting CSV labels of top 6000 tags"
   ]
  },
  {
   "cell_type": "code",
   "execution_count": null,
   "metadata": {
    "scrolled": true
   },
   "outputs": [],
   "source": [
    "import pandas as pd\n",
    "\n",
    "meme = {'filename': [], 'tags': []}\n",
    "total = len(labels)\n",
    "# togos = set()\n",
    "img_dir = Path('danbooru2018/original')\n",
    "\n",
    "for cnt, l in enumerate(labels):\n",
    "    idd = labels[l]['id']\n",
    "    f1 = \"{:04d}\".format((int(idd) % 1000))\n",
    "    if labels[l]['file_ext'] not in ['jpg', 'png']:\n",
    "        continue\n",
    "    poth = img_dir/f1/(str(idd) + '.' + str(labels[l]['file_ext']))\n",
    "    \n",
    "    tags = labels[l]['tags']\n",
    "    tags = [t['name'] for t in tags if t['name'] != '?']\n",
    "    tags.append('age_rating_' + str(labels[l]['rating']))\n",
    "    if len(labels[l]['score']) == 1:\n",
    "        tags.append('meta_score_' + str(labels[l]['score']))\n",
    "    \n",
    "#     togos = togos.union(set(tags))\n",
    "    tags = ' '.join(tags)\n",
    "    meme['filename'].append(poth)\n",
    "    meme['tags'].append(tags)\n",
    "    \n",
    "    if cnt % 100000 == 0:\n",
    "        print(\"{:d} of {:d} | {:3.1f}%\".format(cnt, total, 100*cnt/total))\n",
    "\n",
    "df = pd.DataFrame(meme)\n",
    "df.head()"
   ]
  },
  {
   "cell_type": "code",
   "execution_count": 18,
   "metadata": {},
   "outputs": [],
   "source": [
    "df.to_csv('tag_labels_all.csv', index=False)"
   ]
  },
  {
   "cell_type": "code",
   "execution_count": null,
   "metadata": {},
   "outputs": [
    {
     "name": "stdout",
     "output_type": "stream",
     "text": [
      "Total unique labels =  6000\n",
      "0 of 3294277 | 0.0%\n",
      "20000 of 3294277 | 0.6%\n",
      "40000 of 3294277 | 1.2%\n",
      "60000 of 3294277 | 1.8%\n",
      "80000 of 3294277 | 2.4%\n",
      "100000 of 3294277 | 3.0%\n",
      "120000 of 3294277 | 3.6%\n",
      "140000 of 3294277 | 4.2%\n",
      "160000 of 3294277 | 4.9%\n",
      "180000 of 3294277 | 5.5%\n",
      "200000 of 3294277 | 6.1%\n",
      "220000 of 3294277 | 6.7%\n",
      "240000 of 3294277 | 7.3%\n",
      "260000 of 3294277 | 7.9%\n",
      "280000 of 3294277 | 8.5%\n",
      "300000 of 3294277 | 9.1%\n",
      "320000 of 3294277 | 9.7%\n",
      "340000 of 3294277 | 10.3%\n",
      "360000 of 3294277 | 10.9%\n",
      "380000 of 3294277 | 11.5%\n",
      "400000 of 3294277 | 12.1%\n",
      "420000 of 3294277 | 12.7%\n",
      "440000 of 3294277 | 13.4%\n",
      "460000 of 3294277 | 14.0%\n",
      "480000 of 3294277 | 14.6%\n",
      "500000 of 3294277 | 15.2%\n",
      "520000 of 3294277 | 15.8%\n",
      "540000 of 3294277 | 16.4%\n",
      "560000 of 3294277 | 17.0%\n",
      "580000 of 3294277 | 17.6%\n",
      "600000 of 3294277 | 18.2%\n",
      "620000 of 3294277 | 18.8%\n",
      "640000 of 3294277 | 19.4%\n",
      "660000 of 3294277 | 20.0%\n",
      "680000 of 3294277 | 20.6%\n",
      "700000 of 3294277 | 21.2%\n",
      "720000 of 3294277 | 21.9%\n",
      "740000 of 3294277 | 22.5%\n",
      "760000 of 3294277 | 23.1%\n",
      "780000 of 3294277 | 23.7%\n",
      "800000 of 3294277 | 24.3%\n",
      "820000 of 3294277 | 24.9%\n",
      "840000 of 3294277 | 25.5%\n",
      "860000 of 3294277 | 26.1%\n",
      "880000 of 3294277 | 26.7%\n",
      "900000 of 3294277 | 27.3%\n",
      "920000 of 3294277 | 27.9%\n",
      "940000 of 3294277 | 28.5%\n",
      "960000 of 3294277 | 29.1%\n",
      "980000 of 3294277 | 29.7%\n",
      "1000000 of 3294277 | 30.4%\n",
      "1020000 of 3294277 | 31.0%\n",
      "1040000 of 3294277 | 31.6%\n",
      "1060000 of 3294277 | 32.2%\n",
      "1080000 of 3294277 | 32.8%\n",
      "1100000 of 3294277 | 33.4%\n",
      "1120000 of 3294277 | 34.0%\n",
      "1140000 of 3294277 | 34.6%\n",
      "1160000 of 3294277 | 35.2%\n"
     ]
    }
   ],
   "source": [
    "import pandas as pd\n",
    "from pathlib import Path\n",
    "import pickle\n",
    "df = pd.read_csv('tag_labels_all.csv')\n",
    "\n",
    "max_tag_chars = 1600\n",
    "\n",
    "if Path('class_names.pkl').is_file():\n",
    "    with open('class_names.pkl','rb') as f: total_cnt = pickle.load(f)\n",
    "else:\n",
    "    total_cnt = pd.Series(' '.join(df['tags']).lower().split()).value_counts()\n",
    "\n",
    "def filter_to_tags(dataframe, tags):\n",
    "    total = len(dataframe)\n",
    "    for index, row in dataframe.iterrows():\n",
    "        if row.isna().sum() > 0:\n",
    "            print(\"Detected na row {:}, skipping\".format(row))\n",
    "            continue\n",
    "        \n",
    "        tmp = row['tags'].lower().split()\n",
    "        tmp = [t for t in tmp if t in tags]\n",
    "        tmp = sorted(tmp, key=lambda x: tags[x], reverse=True)\n",
    "        while len(' '.join(tmp)) > max_tag_chars:\n",
    "            del tmp[-1]\n",
    "\n",
    "        row['tags'] = ' '.join(tmp)\n",
    "        if index % 20000 == 0:\n",
    "            print(\"{:d} of {:d} | {:3.1f}%\".format(index, total, 100*index/total))\n",
    "    \n",
    "    print(\"Total na = \", dataframe.isna().sum())\n",
    "    dataframe = dataframe.dropna(axis=0)\n",
    "    \n",
    "    return dataframe\n",
    "\n",
    "print(\"Total unique labels = \", len(total_cnt))\n",
    "\n",
    "df2 = filter_to_tags(df.copy(), total_cnt[0:6000])\n",
    "df2 = df2.dropna(axis=0)\n",
    "df2.to_csv('tag_labels_6000.csv', index=False)\n",
    "\n",
    "# df3 = filter_to_tags(df.copy(), total_cnt[0:200])\n",
    "# df3.to_csv('tag_labels_200.csv', index=False)\n",
    "# df4 = filter_to_tags(df.copy(), total_cnt[0:500])\n",
    "# df4.to_csv('tag_labels_500.csv', index=False)"
   ]
  },
  {
   "cell_type": "code",
   "execution_count": 14,
   "metadata": {},
   "outputs": [],
   "source": [
    "import pickle\n",
    "with open('class_names.pkl','wb') as f: pickle.dump(total_cnt[0:6000], f)\n",
    "# to get just list of names, use: \n",
    "# with open('class_names.pkl','rb') as f: classes = pickle.load(f).index.tolist()"
   ]
  },
  {
   "cell_type": "code",
   "execution_count": 16,
   "metadata": {},
   "outputs": [],
   "source": [
    "df = pd.read_csv('tag_labels_6000.csv')\n",
    "kkk = df.iloc[:, 1]\n",
    "# df = df.dropna(axis=0)\n",
    "# df.to_csv('tag_labels_6000.csv', index=False)"
   ]
  },
  {
   "cell_type": "markdown",
   "metadata": {},
   "source": [
    "# Tag clipping\n",
    "Look in the histogram below, there is a long-tail distribution of the amount of tags. So to keep memory requirements somewhat realistic, I clipped the max length to be a more reasonable number or chars"
   ]
  },
  {
   "cell_type": "code",
   "execution_count": 76,
   "metadata": {},
   "outputs": [
    {
     "data": {
      "image/png": "[encoded data removed]",
      "text/plain": [
       "<Figure size 432x288 with 1 Axes>"
      ]
     },
     "metadata": {
      "needs_background": "light"
     },
     "output_type": "display_data"
    }
   ],
   "source": [
    "# lol = kkk.str.len().max()\n",
    "# lol = lol[lol > 2000]\n",
    "plt.hist(lol, bins=100)\n",
    "plt.show()"
   ]
  },
  {
   "cell_type": "code",
   "execution_count": null,
   "metadata": {},
   "outputs": [],
   "source": []
  }
 ],
 "metadata": {
  "kernelspec": {
   "display_name": "Python 3",
   "language": "python",
   "name": "python3"
  },
  "language_info": {
   "codemirror_mode": {
    "name": "ipython",
    "version": 3
   },
   "file_extension": ".py",
   "mimetype": "text/x-python",
   "name": "python",
   "nbconvert_exporter": "python",
   "pygments_lexer": "ipython3",
   "version": "3.7.3"
  }
 },
 "nbformat": 4,
 "nbformat_minor": 2
}
